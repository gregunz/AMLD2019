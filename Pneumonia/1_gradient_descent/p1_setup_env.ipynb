{
 "cells": [
  {
   "cell_type": "markdown",
   "metadata": {},
   "source": [
    "# Seting up the envinronment"
   ]
  },
  {
   "cell_type": "markdown",
   "metadata": {},
   "source": [
    "Let's see packages do we have on the VM."
   ]
  },
  {
   "cell_type": "code",
   "execution_count": 1,
   "metadata": {},
   "outputs": [
    {
     "name": "stdout",
     "output_type": "stream",
     "text": [
      "Package                            Version     \r\n",
      "---------------------------------- ------------\r\n",
      "absl-py                            0.6.1       \r\n",
      "alabaster                          0.7.10      \r\n",
      "anaconda-client                    1.6.14      \r\n",
      "anaconda-project                   0.8.2       \r\n",
      "asn1crypto                         0.24.0      \r\n",
      "astor                              0.7.1       \r\n",
      "astroid                            1.6.3       \r\n",
      "astropy                            3.0.2       \r\n",
      "attrs                              18.1.0      \r\n",
      "Automat                            0.3.0       \r\n",
      "autovizwidget                      0.12.6      \r\n",
      "Babel                              2.5.3       \r\n",
      "backcall                           0.1.0       \r\n",
      "backports.shutil-get-terminal-size 1.0.0       \r\n",
      "beautifulsoup4                     4.6.0       \r\n",
      "bitarray                           0.8.1       \r\n",
      "bkcharts                           0.2         \r\n",
      "blaze                              0.11.3      \r\n",
      "bleach                             2.1.3       \r\n",
      "bokeh                              0.12.13     \r\n",
      "boto                               2.48.0      \r\n",
      "boto3                              1.9.62      \r\n",
      "botocore                           1.12.62     \r\n",
      "Bottleneck                         1.2.1       \r\n",
      "cached-property                    1.5.1       \r\n",
      "certifi                            2018.11.29  \r\n",
      "cffi                               1.11.5      \r\n",
      "characteristic                     14.3.0      \r\n",
      "chardet                            3.0.4       \r\n",
      "click                              6.7         \r\n",
      "cloudpickle                        0.5.3       \r\n",
      "clyent                             1.2.2       \r\n",
      "colorama                           0.3.9       \r\n",
      "contextlib2                        0.5.5       \r\n",
      "cryptography                       2.2.2       \r\n",
      "cycler                             0.10.0      \r\n",
      "Cython                             0.28.4      \r\n",
      "cytoolz                            0.9.0.1     \r\n",
      "dask                               0.17.5      \r\n",
      "datashape                          0.5.4       \r\n",
      "decorator                          4.3.0       \r\n",
      "distributed                        1.21.8      \r\n",
      "docker                             3.6.0       \r\n",
      "docker-compose                     1.23.2      \r\n",
      "docker-pycreds                     0.4.0       \r\n",
      "dockerpty                          0.4.1       \r\n",
      "docopt                             0.6.2       \r\n",
      "docutils                           0.14        \r\n",
      "entrypoints                        0.2.3       \r\n",
      "enum34                             1.1.6       \r\n",
      "environment-kernels                1.1.1       \r\n",
      "et-xmlfile                         1.0.1       \r\n",
      "fastcache                          1.0.2       \r\n",
      "filelock                           3.0.4       \r\n",
      "Flask                              1.0.2       \r\n",
      "Flask-Cors                         3.0.4       \r\n",
      "gast                               0.2.0       \r\n",
      "gevent                             1.3.0       \r\n",
      "glob2                              0.6         \r\n",
      "gmpy2                              2.0.8       \r\n",
      "greenlet                           0.4.13      \r\n",
      "grpcio                             1.10.1      \r\n",
      "h5py                               2.8.0       \r\n",
      "hdijupyterutils                    0.12.6      \r\n",
      "heapdict                           1.0.0       \r\n",
      "horovod                            0.14.1      \r\n",
      "html5lib                           1.0.1       \r\n",
      "idna                               2.6         \r\n",
      "imageio                            2.3.0       \r\n",
      "imagesize                          1.0.0       \r\n",
      "imbalanced-learn                   0.4.3       \r\n",
      "imblearn                           0.0         \r\n",
      "ipykernel                          4.8.2       \r\n",
      "ipynb                              0.5.1       \r\n",
      "ipyparallel                        6.2.2       \r\n",
      "ipython                            6.4.0       \r\n",
      "ipython-genutils                   0.2.0       \r\n",
      "ipywidgets                         7.4.0       \r\n",
      "isort                              4.3.4       \r\n",
      "itsdangerous                       0.24        \r\n",
      "jdcal                              1.4         \r\n",
      "jedi                               0.12.0      \r\n",
      "Jinja2                             2.10        \r\n",
      "jmespath                           0.9.3       \r\n",
      "jsonschema                         2.6.0       \r\n",
      "jupyter                            1.0.0       \r\n",
      "jupyter-client                     5.2.3       \r\n",
      "jupyter-console                    5.2.0       \r\n",
      "jupyter-core                       4.4.0       \r\n",
      "jupyterlab                         0.32.1      \r\n",
      "jupyterlab-launcher                0.10.5      \r\n",
      "Keras                              2.2.4       \r\n",
      "Keras-Applications                 1.0.6       \r\n",
      "Keras-Preprocessing                1.0.5       \r\n",
      "keras-vis                          0.4.1       \r\n",
      "kiwisolver                         1.0.1       \r\n",
      "lazy-object-proxy                  1.3.1       \r\n",
      "llvmlite                           0.23.1      \r\n",
      "locket                             0.2.0       \r\n",
      "lxml                               4.2.1       \r\n",
      "Markdown                           3.0.1       \r\n",
      "MarkupSafe                         1.0         \r\n",
      "matplotlib                         2.2.2       \r\n",
      "mccabe                             0.6.1       \r\n",
      "mistune                            0.8.3       \r\n",
      "mkl-fft                            1.0.0       \r\n",
      "mkl-random                         1.0.1       \r\n",
      "mlxtend                            0.15.0.0    \r\n",
      "mock                               2.0.0       \r\n",
      "more-itertools                     4.1.0       \r\n",
      "mpmath                             1.0.0       \r\n",
      "msgpack                            0.5.6       \r\n",
      "msgpack-python                     0.5.6       \r\n",
      "multipledispatch                   0.5.0       \r\n",
      "nb-conda                           2.2.1       \r\n",
      "nb-conda-kernels                   2.2.0       \r\n",
      "nbconvert                          5.3.1       \r\n",
      "nbformat                           4.4.0       \r\n",
      "networkx                           2.1         \r\n",
      "nltk                               3.3         \r\n",
      "nose                               1.3.7       \r\n",
      "notebook                           5.5.0       \r\n",
      "numba                              0.38.0      \r\n",
      "numexpr                            2.6.5       \r\n",
      "numpy                              1.14.5      \r\n",
      "numpydoc                           0.8.0       \r\n",
      "odo                                0.5.1       \r\n",
      "olefile                            0.45.1      \r\n",
      "opencv-python                      4.0.0.21    \r\n",
      "openpyxl                           2.5.3       \r\n",
      "packaging                          17.1        \r\n",
      "pandas                             0.22.0      \r\n",
      "pandocfilters                      1.4.2       \r\n",
      "parso                              0.2.0       \r\n",
      "partd                              0.3.8       \r\n",
      "path.py                            11.0.1      \r\n",
      "pathlib2                           2.3.2       \r\n",
      "patsy                              0.5.0       \r\n",
      "pbr                                5.1.1       \r\n",
      "pep8                               1.7.1       \r\n",
      "pexpect                            4.5.0       \r\n",
      "pickleshare                        0.7.4       \r\n",
      "Pillow                             5.2.0       \r\n",
      "pip                                10.0.1      \r\n",
      "pkginfo                            1.4.2       \r\n",
      "plotly                             2.7.0       \r\n",
      "pluggy                             0.6.0       \r\n",
      "ply                                3.11        \r\n",
      "prompt-toolkit                     1.0.15      \r\n",
      "protobuf                           3.6.1       \r\n",
      "protobuf3-to-dict                  0.1.5       \r\n",
      "psutil                             5.4.5       \r\n",
      "psycopg2                           2.7.5       \r\n",
      "ptyprocess                         0.5.2       \r\n",
      "py                                 1.5.3       \r\n",
      "py4j                               0.10.4      \r\n",
      "pycodestyle                        2.4.0       \r\n",
      "pycosat                            0.6.3       \r\n",
      "pycparser                          2.18        \r\n",
      "pycrypto                           2.6.1       \r\n",
      "pycurl                             7.43.0.1    \r\n",
      "pyflakes                           1.6.0       \r\n",
      "pygal                              2.4.0       \r\n",
      "Pygments                           2.2.0       \r\n",
      "pykerberos                         1.2.1       \r\n",
      "pylint                             1.8.4       \r\n",
      "pyodbc                             4.0.23      \r\n",
      "pyOpenSSL                          18.0.0      \r\n",
      "pyparsing                          2.2.0       \r\n",
      "PySocks                            1.6.8       \r\n",
      "pyspark                            2.2.1       \r\n",
      "pytest                             3.5.1       \r\n",
      "pytest-arraydiff                   0.2         \r\n",
      "pytest-astropy                     0.3.0       \r\n",
      "pytest-doctestplus                 0.1.3       \r\n",
      "pytest-openfiles                   0.3.0       \r\n",
      "pytest-remotedata                  0.2.1       \r\n",
      "python-dateutil                    2.7.3       \r\n",
      "pytz                               2018.4      \r\n",
      "PyWavelets                         0.5.2       \r\n",
      "PyYAML                             3.12        \r\n",
      "pyzmq                              17.0.0      \r\n",
      "QtAwesome                          0.4.4       \r\n",
      "qtconsole                          4.3.1       \r\n",
      "QtPy                               1.4.1       \r\n",
      "requests                           2.20.0      \r\n",
      "requests-kerberos                  0.12.0      \r\n",
      "rope                               0.10.7      \r\n",
      "ruamel-yaml                        0.15.35     \r\n",
      "s3fs                               0.1.5       \r\n",
      "s3transfer                         0.1.13      \r\n",
      "sagemaker                          1.16.1.post1\r\n",
      "sagemaker-pyspark                  1.2.1       \r\n",
      "scikit-image                       0.13.1      \r\n",
      "scikit-learn                       0.20.2      \r\n",
      "scipy                              1.1.0       \r\n",
      "seaborn                            0.8.1       \r\n",
      "Send2Trash                         1.5.0       \r\n",
      "setuptools                         39.1.0      \r\n",
      "simplegeneric                      0.8.1       \r\n",
      "singledispatch                     3.4.0.3     \r\n",
      "six                                1.11.0      \r\n",
      "sklearn                            0.0         \r\n",
      "snowballstemmer                    1.2.1       \r\n",
      "sortedcollections                  0.6.1       \r\n",
      "sortedcontainers                   1.5.10      \r\n",
      "sparkmagic                         0.12.5      \r\n",
      "Sphinx                             1.7.4       \r\n",
      "sphinxcontrib-websupport           1.0.1       \r\n",
      "spyder                             3.2.8       \r\n",
      "SQLAlchemy                         1.2.11      \r\n",
      "statsmodels                        0.9.0       \r\n",
      "sympy                              1.1.1       \r\n",
      "tables                             3.4.3       \r\n",
      "tblib                              1.3.2       \r\n",
      "tensorboard                        1.12.0      \r\n",
      "tensorflow                         1.12.0      \r\n",
      "termcolor                          1.1.0       \r\n",
      "terminado                          0.8.1       \r\n",
      "testpath                           0.3.1       \r\n",
      "texttable                          0.9.1       \r\n",
      "toolz                              0.9.0       \r\n",
      "tornado                            5.0.2       \r\n",
      "traitlets                          4.3.2       \r\n",
      "typing                             3.6.4       \r\n",
      "unicodecsv                         0.14.1      \r\n",
      "urllib3                            1.22        \r\n",
      "wcwidth                            0.1.7       \r\n",
      "webencodings                       0.5.1       \r\n",
      "websocket-client                   0.54.0      \r\n",
      "Werkzeug                           0.14.1      \r\n",
      "wheel                              0.31.1      \r\n",
      "widgetsnbextension                 3.4.2       \r\n",
      "wrapt                              1.10.11     \r\n",
      "xlrd                               1.1.0       \r\n",
      "XlsxWriter                         1.0.4       \r\n",
      "xlwt                               1.3.0       \r\n",
      "zict                               0.1.3       \r\n"
     ]
    },
    {
     "name": "stdout",
     "output_type": "stream",
     "text": [
      "\u001b[33mYou are using pip version 10.0.1, however version 19.0.1 is available.\r\n",
      "You should consider upgrading via the 'pip install --upgrade pip' command.\u001b[0m\r\n"
     ]
    }
   ],
   "source": [
    "!pip list"
   ]
  },
  {
   "cell_type": "markdown",
   "metadata": {},
   "source": [
    "We'll use mainly:\n",
    "\n",
    "- **numpy**\n",
    "- **tensorflow**\n",
    "- **keras**\n",
    "- **sklearn**"
   ]
  },
  {
   "cell_type": "markdown",
   "metadata": {},
   "source": [
    "Let's also see what's the spec of the machine..."
   ]
  },
  {
   "cell_type": "code",
   "execution_count": 2,
   "metadata": {},
   "outputs": [
    {
     "name": "stdout",
     "output_type": "stream",
     "text": [
      "16\r\n"
     ]
    }
   ],
   "source": [
    "!grep -c ^processor /proc/cpuinfo "
   ]
  },
  {
   "cell_type": "code",
   "execution_count": 6,
   "metadata": {},
   "outputs": [
    {
     "name": "stdout",
     "output_type": "stream",
     "text": [
      "              total        used        free      shared  buff/cache   available\r\n",
      "Mem:           119G        5.3G        109G        1.1G        5.4G        112G\r\n",
      "Swap:            0B          0B          0B\r\n"
     ]
    }
   ],
   "source": [
    "!free -h"
   ]
  },
  {
   "cell_type": "code",
   "execution_count": 7,
   "metadata": {},
   "outputs": [
    {
     "name": "stdout",
     "output_type": "stream",
     "text": [
      "Sat Jan 26 14:26:38 2019       \r\n",
      "+-----------------------------------------------------------------------------+\r\n",
      "| NVIDIA-SMI 410.79       Driver Version: 410.79       CUDA Version: 10.0     |\r\n",
      "|-------------------------------+----------------------+----------------------+\r\n",
      "| GPU  Name        Persistence-M| Bus-Id        Disp.A | Volatile Uncorr. ECC |\r\n",
      "| Fan  Temp  Perf  Pwr:Usage/Cap|         Memory-Usage | GPU-Util  Compute M. |\r\n",
      "|===============================+======================+======================|\r\n",
      "|   0  Tesla M60           On   | 00000000:00:1E.0 Off |                    0 |\r\n",
      "| N/A   33C    P0    39W / 150W |   7618MiB /  7618MiB |      0%      Default |\r\n",
      "+-------------------------------+----------------------+----------------------+\r\n",
      "                                                                               \r\n",
      "+-----------------------------------------------------------------------------+\r\n",
      "| Processes:                                                       GPU Memory |\r\n",
      "|  GPU       PID   Type   Process name                             Usage      |\r\n",
      "|=============================================================================|\r\n",
      "|    0     10518      C   ...naconda3/envs/tensorflow_p36/bin/python  7362MiB |\r\n",
      "|    0     11636      C   ...naconda3/envs/tensorflow_p36/bin/python   138MiB |\r\n",
      "|    0     11940      C   ...naconda3/envs/tensorflow_p36/bin/python   102MiB |\r\n",
      "+-----------------------------------------------------------------------------+\r\n"
     ]
    }
   ],
   "source": [
    "!nvidia-smi"
   ]
  },
  {
   "cell_type": "code",
   "execution_count": 5,
   "metadata": {},
   "outputs": [
    {
     "name": "stdout",
     "output_type": "stream",
     "text": [
      "data.csv  p1_setup_env.ipynb  p2_gradient_example.ipynb\r\n"
     ]
    }
   ],
   "source": [
    "!ls"
   ]
  },
  {
   "cell_type": "markdown",
   "metadata": {},
   "source": [
    "Seems that we have a GPU 👌"
   ]
  }
 ],
 "metadata": {
  "kernelspec": {
   "display_name": "Python 3",
   "language": "python",
   "name": "python3"
  },
  "language_info": {
   "codemirror_mode": {
    "name": "ipython",
    "version": 3
   },
   "file_extension": ".py",
   "mimetype": "text/x-python",
   "name": "python",
   "nbconvert_exporter": "python",
   "pygments_lexer": "ipython3",
   "version": "3.6.5"
  }
 },
 "nbformat": 4,
 "nbformat_minor": 2
}
